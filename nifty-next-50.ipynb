{
 "cells": [
  {
   "cell_type": "code",
   "execution_count": 2,
   "metadata": {},
   "outputs": [],
   "source": [
    "import yfinance as yf\n",
    "import pandas as pd \n",
    "import datetime\n",
    "from dateutil.relativedelta import relativedelta"
   ]
  },
  {
   "cell_type": "code",
   "execution_count": 3,
   "metadata": {},
   "outputs": [],
   "source": [
    "index = pd.read_csv(\"nifty-next-50.csv\", index_col=False)"
   ]
  },
  {
   "cell_type": "code",
   "execution_count": 4,
   "metadata": {},
   "outputs": [],
   "source": [
    "nifty_next_50 = index[\"SYMBOL \\n\"][1:]"
   ]
  },
  {
   "cell_type": "code",
   "execution_count": 5,
   "metadata": {},
   "outputs": [
    {
     "name": "stdout",
     "output_type": "stream",
     "text": [
      "PGHH\n",
      "[*********************100%***********************]  1 of 1 completed\n",
      "ZOMATO\n",
      "[*********************100%***********************]  1 of 1 completed\n",
      "ADANITRANS\n",
      "[*********************100%***********************]  1 of 1 completed\n",
      "COLPAL\n",
      "[*********************100%***********************]  1 of 1 completed\n",
      "HDFCAMC\n",
      "[*********************100%***********************]  1 of 1 completed\n",
      "ADANIGREEN\n",
      "[*********************100%***********************]  1 of 1 completed\n",
      "IOC\n",
      "[*********************100%***********************]  1 of 1 completed\n",
      "MUTHOOTFIN\n",
      "[*********************100%***********************]  1 of 1 completed\n",
      "MCDOWELL-N\n",
      "[*********************100%***********************]  1 of 1 completed\n",
      "LUPIN\n",
      "[*********************100%***********************]  1 of 1 completed\n",
      "AMBUJACEM\n",
      "[*********************100%***********************]  1 of 1 completed\n",
      "ADANIENT\n",
      "[*********************100%***********************]  1 of 1 completed\n",
      "BANKBARODA\n",
      "[*********************100%***********************]  1 of 1 completed\n",
      "GAIL\n",
      "[*********************100%***********************]  1 of 1 completed\n",
      "ICICIPRULI\n",
      "[*********************100%***********************]  1 of 1 completed\n",
      "BANDHANBNK\n",
      "[*********************100%***********************]  1 of 1 completed\n",
      "GODREJCP\n",
      "[*********************100%***********************]  1 of 1 completed\n",
      "ZYDUSLIFE\n",
      "[*********************100%***********************]  1 of 1 completed\n",
      "ICICIGI\n",
      "[*********************100%***********************]  1 of 1 completed\n",
      "HAVELLS\n",
      "[*********************100%***********************]  1 of 1 completed\n",
      "PNB\n",
      "[*********************100%***********************]  1 of 1 completed\n",
      "INDUSTOWER\n",
      "[*********************100%***********************]  1 of 1 completed\n",
      "PAYTM\n",
      "[*********************100%***********************]  1 of 1 completed\n",
      "BAJAJHLDNG\n",
      "[*********************100%***********************]  1 of 1 completed\n",
      "INDIGO\n",
      "[*********************100%***********************]  1 of 1 completed\n",
      "ACC\n",
      "[*********************100%***********************]  1 of 1 completed\n",
      "TORNTPHARM\n",
      "[*********************100%***********************]  1 of 1 completed\n",
      "PEL\n",
      "[*********************100%***********************]  1 of 1 completed\n",
      "BOSCHLTD\n",
      "[*********************100%***********************]  1 of 1 completed\n",
      "DLF\n",
      "[*********************100%***********************]  1 of 1 completed\n",
      "PIDILITIND\n",
      "[*********************100%***********************]  1 of 1 completed\n",
      "BERGEPAINT\n",
      "[*********************100%***********************]  1 of 1 completed\n",
      "NMDC\n",
      "[*********************100%***********************]  1 of 1 completed\n",
      "JUBLFOOD\n",
      "[*********************100%***********************]  1 of 1 completed\n",
      "MARICO\n",
      "[*********************100%***********************]  1 of 1 completed\n",
      "DABUR\n",
      "[*********************100%***********************]  1 of 1 completed\n",
      "VEDL\n",
      "[*********************100%***********************]  1 of 1 completed\n",
      "SIEMENS\n",
      "[*********************100%***********************]  1 of 1 completed\n",
      "GLAND\n",
      "[*********************100%***********************]  1 of 1 completed\n",
      "MINDTREE\n",
      "[*********************100%***********************]  1 of 1 completed\n",
      "SRF\n",
      "[*********************100%***********************]  1 of 1 completed\n",
      "NYKAA\n",
      "[*********************100%***********************]  1 of 1 completed\n",
      "LTI\n",
      "[*********************100%***********************]  1 of 1 completed\n",
      "BIOCON\n",
      "[*********************100%***********************]  1 of 1 completed\n",
      "SAIL\n",
      "[*********************100%***********************]  1 of 1 completed\n",
      "SBICARD\n",
      "[*********************100%***********************]  1 of 1 completed\n",
      "PIIND\n",
      "[*********************100%***********************]  1 of 1 completed\n",
      "NAUKRI\n",
      "[*********************100%***********************]  1 of 1 completed\n",
      "DMART\n",
      "[*********************100%***********************]  1 of 1 completed\n",
      "CHOLAFIN\n",
      "[*********************100%***********************]  1 of 1 completed\n"
     ]
    }
   ],
   "source": [
    "returns = {}\n",
    "\n",
    "for symbol in nifty_next_50:\n",
    "\n",
    "    ticker = symbol+\".NS\"\n",
    "\n",
    "    print(symbol)\n",
    "\n",
    "    price = yf.download(ticker, start=\"2021-09-09\", end=\"2022-09-09\")\n",
    "\n",
    "    price.drop([\"Adj Close\", \"Volume\"], axis=1, inplace=True)\n",
    "\n",
    "    month_open = price.iloc[0][\"Open\"]\n",
    "    month_close = price.iloc[-1][\"Close\"]\n",
    "\n",
    "\n",
    "    returns[symbol] = (month_close / month_open) - 1\n"
   ]
  },
  {
   "cell_type": "code",
   "execution_count": 6,
   "metadata": {},
   "outputs": [],
   "source": [
    "returns = {k: v for k, v in sorted(returns.items(), key=lambda item: item[1])}"
   ]
  },
  {
   "cell_type": "code",
   "execution_count": 7,
   "metadata": {},
   "outputs": [
    {
     "name": "stdout",
     "output_type": "stream",
     "text": [
      "PAYTM -63.743589743589745\n",
      "PEL -60.76937889867975\n",
      "ZOMATO -56.612446165284844\n",
      "HDFCAMC -38.666950458369776\n",
      "GLAND -38.04822582883883\n",
      "NAUKRI -37.28581943796642\n",
      "NYKAA -33.00297324083251\n",
      "MUTHOOTFIN -32.793929225714635\n",
      "ZYDUSLIFE -32.00544575381409\n",
      "SAIL -32.00000127156576\n",
      "LUPIN -31.96428571428571\n",
      "JUBLFOOD -24.733578139521374\n",
      "ICICIGI -24.06057162102132\n",
      "BERGEPAINT -20.048075455885673\n",
      "NMDC -19.506579951236127\n",
      "ICICIPRULI -17.223814964274688\n",
      "LTI -15.921000087128256\n",
      "SBICARD -15.36028012240499\n",
      "BIOCON -15.19773666468044\n",
      "GODREJCP -14.984155726573112\n",
      "MINDTREE -14.358288613389881\n",
      "INDUSTOWER -13.226494422325718\n",
      "VEDL -12.452007782670416\n",
      "DABUR -10.173224501722444\n",
      "MARICO -6.598026067312002\n",
      "HAVELLS -5.605316696006824\n",
      "GAIL -4.22558985826853\n",
      "PIIND -4.083716871117438\n",
      "COLPAL -3.644114774816176\n",
      "IOC -2.7296877017510157\n",
      "TORNTPHARM -2.14586551610616\n",
      "ACC -0.7725449859118827\n",
      "INDIGO -0.018030684489311888\n",
      "PNB 1.8592215667269985\n",
      "BANDHANBNK 2.421050489994525\n",
      "PGHH 6.549309310153051\n",
      "AMBUJACEM 6.68667995685599\n",
      "MCDOWELL-N 7.577182846581376\n",
      "DMART 11.999232452656328\n",
      "DLF 19.746758392977704\n",
      "BOSCHLTD 21.44049845950704\n",
      "PIDILITIND 23.478911460574437\n",
      "SRF 29.825977998621322\n",
      "SIEMENS 33.28888325751582\n",
      "CHOLAFIN 38.890818789265595\n",
      "BAJAJHLDNG 48.73395565927654\n",
      "BANKBARODA 74.46406151235183\n",
      "ADANIGREEN 99.49145716479701\n",
      "ADANIENT 121.74693282310191\n",
      "ADANITRANS 122.03715165362587\n"
     ]
    }
   ],
   "source": [
    "for k, v in returns.items():\n",
    "\n",
    "    print(k, v * 100)"
   ]
  },
  {
   "cell_type": "code",
   "execution_count": null,
   "metadata": {},
   "outputs": [],
   "source": []
  }
 ],
 "metadata": {
  "kernelspec": {
   "display_name": "Python 3.10.6 64-bit",
   "language": "python",
   "name": "python3"
  },
  "language_info": {
   "codemirror_mode": {
    "name": "ipython",
    "version": 3
   },
   "file_extension": ".py",
   "mimetype": "text/x-python",
   "name": "python",
   "nbconvert_exporter": "python",
   "pygments_lexer": "ipython3",
   "version": "3.10.6"
  },
  "orig_nbformat": 4,
  "vscode": {
   "interpreter": {
    "hash": "916dbcbb3f70747c44a77c7bcd40155683ae19c65e1c03b4aa3499c5328201f1"
   }
  }
 },
 "nbformat": 4,
 "nbformat_minor": 2
}
