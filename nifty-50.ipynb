{
 "cells": [
  {
   "cell_type": "code",
   "execution_count": 1,
   "metadata": {},
   "outputs": [],
   "source": [
    "import yfinance as yf\n",
    "import pandas as pd \n",
    "import datetime\n",
    "from dateutil.relativedelta import relativedelta"
   ]
  },
  {
   "cell_type": "code",
   "execution_count": 2,
   "metadata": {},
   "outputs": [],
   "source": [
    "index = pd.read_csv(\"nifty-50.csv\", index_col=False)"
   ]
  },
  {
   "cell_type": "code",
   "execution_count": 3,
   "metadata": {},
   "outputs": [],
   "source": [
    "nifty50 = index[\"SYMBOL \\n\"][1:]"
   ]
  },
  {
   "cell_type": "code",
   "execution_count": 8,
   "metadata": {},
   "outputs": [
    {
     "name": "stdout",
     "output_type": "stream",
     "text": [
      "TATAMOTORS\n",
      "[*********************100%***********************]  1 of 1 completed\n",
      "SUNPHARMA\n",
      "[*********************100%***********************]  1 of 1 completed\n",
      "M&M\n",
      "[*********************100%***********************]  1 of 1 completed\n",
      "HINDUNILVR\n",
      "[*********************100%***********************]  1 of 1 completed\n",
      "TITAN\n",
      "[*********************100%***********************]  1 of 1 completed\n",
      "UPL\n",
      "[*********************100%***********************]  1 of 1 completed\n",
      "ITC\n",
      "[*********************100%***********************]  1 of 1 completed\n",
      "HEROMOTOCO\n",
      "[*********************100%***********************]  1 of 1 completed\n",
      "BRITANNIA\n",
      "[*********************100%***********************]  1 of 1 completed\n",
      "BAJAJ-AUTO\n",
      "[*********************100%***********************]  1 of 1 completed\n",
      "EICHERMOT\n",
      "[*********************100%***********************]  1 of 1 completed\n",
      "RELIANCE\n",
      "[*********************100%***********************]  1 of 1 completed\n",
      "CIPLA\n",
      "[*********************100%***********************]  1 of 1 completed\n",
      "DIVISLAB\n",
      "[*********************100%***********************]  1 of 1 completed\n",
      "COALINDIA\n",
      "[*********************100%***********************]  1 of 1 completed\n",
      "DRREDDY\n",
      "[*********************100%***********************]  1 of 1 completed\n",
      "NESTLEIND\n",
      "[*********************100%***********************]  1 of 1 completed\n",
      "ASIANPAINT\n",
      "[*********************100%***********************]  1 of 1 completed\n",
      "KOTAKBANK\n",
      "[*********************100%***********************]  1 of 1 completed\n",
      "LT\n",
      "[*********************100%***********************]  1 of 1 completed\n",
      "HDFCLIFE\n",
      "[*********************100%***********************]  1 of 1 completed\n",
      "POWERGRID\n",
      "[*********************100%***********************]  1 of 1 completed\n",
      "INDUSINDBK\n",
      "[*********************100%***********************]  1 of 1 completed\n",
      "ULTRACEMCO\n",
      "[*********************100%***********************]  1 of 1 completed\n",
      "TCS\n",
      "[*********************100%***********************]  1 of 1 completed\n",
      "TATACONSUM\n",
      "[*********************100%***********************]  1 of 1 completed\n",
      "INFY\n",
      "[*********************100%***********************]  1 of 1 completed\n",
      "SHREECEM\n",
      "[*********************100%***********************]  1 of 1 completed\n",
      "HDFCBANK\n",
      "[*********************100%***********************]  1 of 1 completed\n",
      "HDFC\n",
      "[*********************100%***********************]  1 of 1 completed\n",
      "APOLLOHOSP\n",
      "[*********************100%***********************]  1 of 1 completed\n",
      "HCLTECH\n",
      "[*********************100%***********************]  1 of 1 completed\n",
      "TECHM\n",
      "[*********************100%***********************]  1 of 1 completed\n",
      "ADANIPORTS\n",
      "[*********************100%***********************]  1 of 1 completed\n",
      "WIPRO\n",
      "[*********************100%***********************]  1 of 1 completed\n",
      "BPCL\n",
      "[*********************100%***********************]  1 of 1 completed\n",
      "GRASIM\n",
      "[*********************100%***********************]  1 of 1 completed\n",
      "BAJFINANCE\n",
      "[*********************100%***********************]  1 of 1 completed\n",
      "ONGC\n",
      "[*********************100%***********************]  1 of 1 completed\n",
      "MARUTI\n",
      "[*********************100%***********************]  1 of 1 completed\n",
      "SBILIFE\n",
      "[*********************100%***********************]  1 of 1 completed\n",
      "TATASTEEL\n",
      "[*********************100%***********************]  1 of 1 completed\n",
      "BAJAJFINSV\n",
      "[*********************100%***********************]  1 of 1 completed\n",
      "AXISBANK\n",
      "[*********************100%***********************]  1 of 1 completed\n",
      "NTPC\n",
      "[*********************100%***********************]  1 of 1 completed\n",
      "BHARTIARTL\n",
      "[*********************100%***********************]  1 of 1 completed\n",
      "ICICIBANK\n",
      "[*********************100%***********************]  1 of 1 completed\n",
      "JSWSTEEL\n",
      "[*********************100%***********************]  1 of 1 completed\n",
      "SBIN\n",
      "[*********************100%***********************]  1 of 1 completed\n",
      "HINDALCO\n",
      "[*********************100%***********************]  1 of 1 completed\n"
     ]
    }
   ],
   "source": [
    "\n",
    "\n",
    "\n",
    "returns = {}\n",
    "\n",
    "for symbol in nifty50:\n",
    "\n",
    "    ticker = symbol+\".NS\"\n",
    "\n",
    "    print(symbol)\n",
    "\n",
    "    price = yf.download(ticker, start=\"2021-11-01\", end=\"2022-11-01\")\n",
    "\n",
    "    price.drop([\"Adj Close\", \"Volume\"], axis=1, inplace=True)\n",
    "\n",
    "    month_open = price.iloc[0][\"Open\"]\n",
    "    month_close = price.iloc[-1][\"Close\"]\n",
    "\n",
    "\n",
    "    returns[symbol] = (month_close / month_open) - 1\n"
   ]
  },
  {
   "cell_type": "code",
   "execution_count": 9,
   "metadata": {},
   "outputs": [],
   "source": [
    "returns = {k: v for k, v in sorted(returns.items(), key=lambda item: item[1])}"
   ]
  },
  {
   "cell_type": "code",
   "execution_count": 10,
   "metadata": {},
   "outputs": [
    {
     "name": "stdout",
     "output_type": "stream",
     "text": [
      "WIPRO -40.63123908964903\n",
      "DIVISLAB -30.27088966981769\n",
      "BPCL -29.053739743812056\n",
      "TECHM -28.63087084469379\n",
      "TATASTEEL -24.216415633016553\n",
      "SHREECEM -21.039930555555554\n",
      "HDFCLIFE -20.574619367837432\n",
      "TATAMOTORS -15.150582867220653\n",
      "HDFC -14.034108986142535\n",
      "HINDALCO -12.537730794948054\n",
      "ULTRACEMCO -12.45175755785528\n",
      "ONGC -10.63333129882813\n",
      "HCLTECH -8.950588157930694\n",
      "INFY -8.336809274869594\n",
      "KOTAKBANK -7.447690940541363\n",
      "TCS -7.120523925738986\n",
      "TATACONSUM -6.250757831520081\n",
      "BAJAJFINSV -5.726256983240219\n",
      "HDFCBANK -5.570980998619879\n",
      "DRREDDY -5.363923259071502\n",
      "BAJFINANCE -3.8479125483681043\n",
      "UPL -1.9865755426803688\n",
      "BAJAJ-AUTO -1.3420912063129897\n",
      "INDUSINDBK -1.3255592043123876\n",
      "JSWSTEEL -0.8897040872012818\n",
      "ASIANPAINT -0.6489785430986217\n",
      "GRASIM -0.017424438334789905\n",
      "HEROMOTOCO 0.06916252920561305\n",
      "RELIANCE 0.5263715192212803\n",
      "BRITANNIA 1.9639969904744259\n",
      "APOLLOHOSP 5.519475705579602\n",
      "HINDUNILVR 6.5900522846583875\n",
      "NESTLEIND 6.620800015380457\n",
      "SBILIFE 10.274385990581436\n",
      "ICICIBANK 12.504642623938889\n",
      "SBIN 12.841688848174782\n",
      "TITAN 13.109015348625253\n",
      "LT 13.913286913622613\n",
      "ADANIPORTS 16.815601105385646\n",
      "AXISBANK 19.999999999999996\n",
      "BHARTIARTL 20.58844630476566\n",
      "POWERGRID 23.59154190306354\n",
      "SUNPHARMA 27.27955552625414\n",
      "CIPLA 27.306436686375402\n",
      "MARUTI 28.733949592960407\n",
      "NTPC 29.954962514584338\n",
      "COALINDIA 49.06060421105587\n",
      "M&M 52.51342669900338\n",
      "EICHERMOT 54.63654422377009\n",
      "ITC 55.565479233546554\n"
     ]
    }
   ],
   "source": [
    "for k, v in returns.items():\n",
    "\n",
    "    print(k, v * 100)"
   ]
  },
  {
   "cell_type": "code",
   "execution_count": null,
   "metadata": {},
   "outputs": [],
   "source": []
  },
  {
   "cell_type": "code",
   "execution_count": null,
   "metadata": {},
   "outputs": [],
   "source": []
  },
  {
   "cell_type": "code",
   "execution_count": null,
   "metadata": {},
   "outputs": [],
   "source": []
  },
  {
   "cell_type": "code",
   "execution_count": null,
   "metadata": {},
   "outputs": [],
   "source": []
  },
  {
   "cell_type": "code",
   "execution_count": null,
   "metadata": {},
   "outputs": [],
   "source": []
  },
  {
   "cell_type": "code",
   "execution_count": null,
   "metadata": {},
   "outputs": [],
   "source": []
  }
 ],
 "metadata": {
  "kernelspec": {
   "display_name": "Python 3.10.6 64-bit",
   "language": "python",
   "name": "python3"
  },
  "language_info": {
   "codemirror_mode": {
    "name": "ipython",
    "version": 3
   },
   "file_extension": ".py",
   "mimetype": "text/x-python",
   "name": "python",
   "nbconvert_exporter": "python",
   "pygments_lexer": "ipython3",
   "version": "3.10.6"
  },
  "orig_nbformat": 4,
  "vscode": {
   "interpreter": {
    "hash": "916dbcbb3f70747c44a77c7bcd40155683ae19c65e1c03b4aa3499c5328201f1"
   }
  }
 },
 "nbformat": 4,
 "nbformat_minor": 2
}
